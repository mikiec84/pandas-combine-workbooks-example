{
 "cells": [
  {
   "cell_type": "markdown",
   "metadata": {},
   "source": [
    "# pandas-combine-workbooks-example\n",
    "\n",
    "By Ben Welsh\n",
    "\n",
    "An example showing how to use Python's pandas library to combine tabs from multiple Microsoft Excel workbooks into a single CSV."
   ]
  },
  {
   "cell_type": "markdown",
   "metadata": {},
   "source": [
    "### Installing what we need besides pandas"
   ]
  },
  {
   "cell_type": "markdown",
   "metadata": {},
   "source": [
    "In order to read in Excel files, pandas requires you to install the xlrd library."
   ]
  },
  {
   "cell_type": "code",
   "execution_count": 1,
   "metadata": {},
   "outputs": [
    {
     "name": "stdout",
     "output_type": "stream",
     "text": [
      "Requirement already satisfied: xlrd in /home/palewire/.virtualenvs/pandas-combine-workbooks-example/lib/python2.7/site-packages\r\n"
     ]
    }
   ],
   "source": [
    "!pip install xlrd"
   ]
  },
  {
   "cell_type": "markdown",
   "metadata": {},
   "source": [
    "Now import pandas"
   ]
  },
  {
   "cell_type": "code",
   "execution_count": 2,
   "metadata": {},
   "outputs": [],
   "source": [
    "import pandas as pd"
   ]
  },
  {
   "cell_type": "markdown",
   "metadata": {},
   "source": [
    "### Retrieving the file list"
   ]
  },
  {
   "cell_type": "markdown",
   "metadata": {},
   "source": [
    "I've seeded the input directory with 10 Excel files, each with a year as its name. Let's use Python's glob tool to collect the path to each file."
   ]
  },
  {
   "cell_type": "code",
   "execution_count": 3,
   "metadata": {},
   "outputs": [],
   "source": [
    "import glob"
   ]
  },
  {
   "cell_type": "code",
   "execution_count": 4,
   "metadata": {},
   "outputs": [],
   "source": [
    "file_list = glob.glob(\"./input/*.xlsx\")"
   ]
  },
  {
   "cell_type": "code",
   "execution_count": 5,
   "metadata": {},
   "outputs": [
    {
     "data": {
      "text/plain": [
       "['./input/2009.xlsx',\n",
       " './input/2005.xlsx',\n",
       " './input/2006.xlsx',\n",
       " './input/2004.xlsx',\n",
       " './input/2001.xlsx',\n",
       " './input/2003.xlsx',\n",
       " './input/2007.xlsx',\n",
       " './input/2002.xlsx',\n",
       " './input/2008.xlsx',\n",
       " './input/2000.xlsx']"
      ]
     },
     "execution_count": 5,
     "metadata": {},
     "output_type": "execute_result"
    }
   ],
   "source": [
    "file_list"
   ]
  },
  {
   "cell_type": "markdown",
   "metadata": {},
   "source": [
    "### A short digression"
   ]
  },
  {
   "cell_type": "markdown",
   "metadata": {},
   "source": [
    "Each file has 10 tabs.\n",
    "\n",
    "In order to get pandas to read in all the tab, you have to pass None into the sheet_name keyword argument of read_excel.\n",
    "\n",
    "```python\n",
    "pd.read_excel(file_list[0], sheet_name=None)\n",
    "```\n",
    "\n",
    "That will return a dictionary with each key being a tab name and each value being a dataframe. Here's a rough example."
   ]
  },
  {
   "cell_type": "code",
   "execution_count": 6,
   "metadata": {},
   "outputs": [],
   "source": [
    "df_dict = pd.read_excel(file_list[0], sheet_name=None)"
   ]
  },
  {
   "cell_type": "markdown",
   "metadata": {},
   "source": [
    "Here's all the keys"
   ]
  },
  {
   "cell_type": "code",
   "execution_count": 7,
   "metadata": {},
   "outputs": [
    {
     "data": {
      "text/plain": [
       "[u'Sheet1',\n",
       " u'Sheet2',\n",
       " u'Sheet3',\n",
       " u'Sheet4',\n",
       " u'Sheet5',\n",
       " u'Sheet6',\n",
       " u'Sheet7',\n",
       " u'Sheet8',\n",
       " u'Sheet9',\n",
       " u'Sheet10']"
      ]
     },
     "execution_count": 7,
     "metadata": {},
     "output_type": "execute_result"
    }
   ],
   "source": [
    "df_dict.keys()"
   ]
  },
  {
   "cell_type": "markdown",
   "metadata": {},
   "source": [
    "Which can be used to pull out the dataframes."
   ]
  },
  {
   "cell_type": "code",
   "execution_count": 8,
   "metadata": {},
   "outputs": [
    {
     "data": {
      "text/html": [
       "<div>\n",
       "<style scoped>\n",
       "    .dataframe tbody tr th:only-of-type {\n",
       "        vertical-align: middle;\n",
       "    }\n",
       "\n",
       "    .dataframe tbody tr th {\n",
       "        vertical-align: top;\n",
       "    }\n",
       "\n",
       "    .dataframe thead th {\n",
       "        text-align: right;\n",
       "    }\n",
       "</style>\n",
       "<table border=\"1\" class=\"dataframe\">\n",
       "  <thead>\n",
       "    <tr style=\"text-align: right;\">\n",
       "      <th></th>\n",
       "      <th>row1</th>\n",
       "      <th>row2</th>\n",
       "    </tr>\n",
       "  </thead>\n",
       "  <tbody>\n",
       "    <tr>\n",
       "      <th>0</th>\n",
       "      <td>1</td>\n",
       "      <td>a</td>\n",
       "    </tr>\n",
       "    <tr>\n",
       "      <th>1</th>\n",
       "      <td>2</td>\n",
       "      <td>b</td>\n",
       "    </tr>\n",
       "    <tr>\n",
       "      <th>2</th>\n",
       "      <td>3</td>\n",
       "      <td>c</td>\n",
       "    </tr>\n",
       "    <tr>\n",
       "      <th>3</th>\n",
       "      <td>4</td>\n",
       "      <td>d</td>\n",
       "    </tr>\n",
       "    <tr>\n",
       "      <th>4</th>\n",
       "      <td>5</td>\n",
       "      <td>a</td>\n",
       "    </tr>\n",
       "  </tbody>\n",
       "</table>\n",
       "</div>"
      ],
      "text/plain": [
       "   row1 row2\n",
       "0     1    a\n",
       "1     2    b\n",
       "2     3    c\n",
       "3     4    d\n",
       "4     5    a"
      ]
     },
     "execution_count": 8,
     "metadata": {},
     "output_type": "execute_result"
    }
   ],
   "source": [
    "df_dict['Sheet1'].head()"
   ]
  },
  {
   "cell_type": "markdown",
   "metadata": {},
   "source": [
    "Looping through that dict isn't hard at all."
   ]
  },
  {
   "cell_type": "code",
   "execution_count": 9,
   "metadata": {},
   "outputs": [
    {
     "name": "stdout",
     "output_type": "stream",
     "text": [
      "Sheet1: 100 rows\n",
      "Sheet2: 100 rows\n",
      "Sheet3: 100 rows\n",
      "Sheet4: 100 rows\n",
      "Sheet5: 100 rows\n",
      "Sheet6: 100 rows\n",
      "Sheet7: 100 rows\n",
      "Sheet8: 100 rows\n",
      "Sheet9: 100 rows\n",
      "Sheet10: 100 rows\n"
     ]
    }
   ],
   "source": [
    "for tab_name, df in df_dict.items():\n",
    "    print \"{}: {} rows\".format(tab_name, len(df))"
   ]
  },
  {
   "cell_type": "markdown",
   "metadata": {},
   "source": [
    "### Actually doing it\n",
    "\n",
    "Knowing that, we can write a loop that will step through the file list and for each file read in a dictionary of dataframes. Those dictionaries can then be stepped through to grab each tabs data."
   ]
  },
  {
   "cell_type": "markdown",
   "metadata": {},
   "source": [
    "Before  I start the loop I am going to make an empty list where we will store each dataframe we retreive."
   ]
  },
  {
   "cell_type": "code",
   "execution_count": 10,
   "metadata": {},
   "outputs": [],
   "source": [
    "df_list = []"
   ]
  },
  {
   "cell_type": "markdown",
   "metadata": {},
   "source": [
    "Now I'm going to make a run for it."
   ]
  },
  {
   "cell_type": "code",
   "execution_count": 11,
   "metadata": {},
   "outputs": [
    {
     "name": "stdout",
     "output_type": "stream",
     "text": [
      "Opening Excel file at ./input/2009.xlsx\n",
      "- Parsing tab Sheet1 with 100 rows\n",
      "- Parsing tab Sheet2 with 100 rows\n",
      "- Parsing tab Sheet3 with 100 rows\n",
      "- Parsing tab Sheet4 with 100 rows\n",
      "- Parsing tab Sheet5 with 100 rows\n",
      "- Parsing tab Sheet6 with 100 rows\n",
      "- Parsing tab Sheet7 with 100 rows\n",
      "- Parsing tab Sheet8 with 100 rows\n",
      "- Parsing tab Sheet9 with 100 rows\n",
      "- Parsing tab Sheet10 with 100 rows\n",
      "Opening Excel file at ./input/2005.xlsx\n",
      "- Parsing tab Sheet1 with 100 rows\n",
      "- Parsing tab Sheet2 with 100 rows\n",
      "- Parsing tab Sheet3 with 100 rows\n",
      "- Parsing tab Sheet4 with 100 rows\n",
      "- Parsing tab Sheet5 with 100 rows\n",
      "- Parsing tab Sheet6 with 100 rows\n",
      "- Parsing tab Sheet7 with 100 rows\n",
      "- Parsing tab Sheet8 with 100 rows\n",
      "- Parsing tab Sheet9 with 100 rows\n",
      "- Parsing tab Sheet10 with 100 rows\n",
      "Opening Excel file at ./input/2006.xlsx\n",
      "- Parsing tab Sheet1 with 100 rows\n",
      "- Parsing tab Sheet2 with 100 rows\n",
      "- Parsing tab Sheet3 with 100 rows\n",
      "- Parsing tab Sheet4 with 100 rows\n",
      "- Parsing tab Sheet5 with 100 rows\n",
      "- Parsing tab Sheet6 with 100 rows\n",
      "- Parsing tab Sheet7 with 100 rows\n",
      "- Parsing tab Sheet8 with 100 rows\n",
      "- Parsing tab Sheet9 with 100 rows\n",
      "- Parsing tab Sheet10 with 100 rows\n",
      "Opening Excel file at ./input/2004.xlsx\n",
      "- Parsing tab Sheet1 with 100 rows\n",
      "- Parsing tab Sheet2 with 100 rows\n",
      "- Parsing tab Sheet3 with 100 rows\n",
      "- Parsing tab Sheet4 with 100 rows\n",
      "- Parsing tab Sheet5 with 100 rows\n",
      "- Parsing tab Sheet6 with 100 rows\n",
      "- Parsing tab Sheet7 with 100 rows\n",
      "- Parsing tab Sheet8 with 100 rows\n",
      "- Parsing tab Sheet9 with 100 rows\n",
      "- Parsing tab Sheet10 with 100 rows\n",
      "Opening Excel file at ./input/2001.xlsx\n",
      "- Parsing tab Sheet1 with 100 rows\n",
      "- Parsing tab Sheet2 with 100 rows\n",
      "- Parsing tab Sheet3 with 100 rows\n",
      "- Parsing tab Sheet4 with 100 rows\n",
      "- Parsing tab Sheet5 with 100 rows\n",
      "- Parsing tab Sheet6 with 100 rows\n",
      "- Parsing tab Sheet7 with 100 rows\n",
      "- Parsing tab Sheet8 with 100 rows\n",
      "- Parsing tab Sheet9 with 100 rows\n",
      "- Parsing tab Sheet10 with 100 rows\n",
      "Opening Excel file at ./input/2003.xlsx\n",
      "- Parsing tab Sheet1 with 100 rows\n",
      "- Parsing tab Sheet2 with 100 rows\n",
      "- Parsing tab Sheet3 with 100 rows\n",
      "- Parsing tab Sheet4 with 100 rows\n",
      "- Parsing tab Sheet5 with 100 rows\n",
      "- Parsing tab Sheet6 with 100 rows\n",
      "- Parsing tab Sheet7 with 100 rows\n",
      "- Parsing tab Sheet8 with 100 rows\n",
      "- Parsing tab Sheet9 with 100 rows\n",
      "- Parsing tab Sheet10 with 100 rows\n",
      "Opening Excel file at ./input/2007.xlsx\n",
      "- Parsing tab Sheet1 with 100 rows\n",
      "- Parsing tab Sheet2 with 100 rows\n",
      "- Parsing tab Sheet3 with 100 rows\n",
      "- Parsing tab Sheet4 with 100 rows\n",
      "- Parsing tab Sheet5 with 100 rows\n",
      "- Parsing tab Sheet6 with 100 rows\n",
      "- Parsing tab Sheet7 with 100 rows\n",
      "- Parsing tab Sheet8 with 100 rows\n",
      "- Parsing tab Sheet9 with 100 rows\n",
      "- Parsing tab Sheet10 with 100 rows\n",
      "Opening Excel file at ./input/2002.xlsx\n",
      "- Parsing tab Sheet1 with 100 rows\n",
      "- Parsing tab Sheet2 with 100 rows\n",
      "- Parsing tab Sheet3 with 100 rows\n",
      "- Parsing tab Sheet4 with 100 rows\n",
      "- Parsing tab Sheet5 with 100 rows\n",
      "- Parsing tab Sheet6 with 100 rows\n",
      "- Parsing tab Sheet7 with 100 rows\n",
      "- Parsing tab Sheet8 with 100 rows\n",
      "- Parsing tab Sheet9 with 100 rows\n",
      "- Parsing tab Sheet10 with 100 rows\n",
      "Opening Excel file at ./input/2008.xlsx\n",
      "- Parsing tab Sheet1 with 100 rows\n",
      "- Parsing tab Sheet2 with 100 rows\n",
      "- Parsing tab Sheet3 with 100 rows\n",
      "- Parsing tab Sheet4 with 100 rows\n",
      "- Parsing tab Sheet5 with 100 rows\n",
      "- Parsing tab Sheet6 with 100 rows\n",
      "- Parsing tab Sheet7 with 100 rows\n",
      "- Parsing tab Sheet8 with 100 rows\n",
      "- Parsing tab Sheet9 with 100 rows\n",
      "- Parsing tab Sheet10 with 100 rows\n",
      "Opening Excel file at ./input/2000.xlsx\n",
      "- Parsing tab Sheet1 with 100 rows\n",
      "- Parsing tab Sheet2 with 100 rows\n",
      "- Parsing tab Sheet3 with 100 rows\n",
      "- Parsing tab Sheet4 with 100 rows\n",
      "- Parsing tab Sheet5 with 100 rows\n",
      "- Parsing tab Sheet6 with 100 rows\n",
      "- Parsing tab Sheet7 with 100 rows\n",
      "- Parsing tab Sheet8 with 100 rows\n",
      "- Parsing tab Sheet9 with 100 rows\n",
      "- Parsing tab Sheet10 with 100 rows\n"
     ]
    }
   ],
   "source": [
    "# Loop through the files\n",
    "for file_path in file_list:\n",
    "    # Print out what we're doing\n",
    "    print(\"Opening Excel file at {}\".format(file_path))\n",
    "    \n",
    "    # Open up a dictionary with all the tabs as dataframes\n",
    "    df_dict = pd.read_excel(file_path, sheet_name=None)\n",
    "    \n",
    "    # Loop through those tabs ...\n",
    "    for tab_name, df in df_dict.items():\n",
    "        \n",
    "        # Print out where we are\n",
    "        print(\"- Parsing tab {} with {} rows\".format(tab_name, len(df)))\n",
    "\n",
    "        # Let's add that file name and tab name to each dataframe so they are tagged\n",
    "        df['file_path'] = file_path\n",
    "        df['tab_name'] = tab_name\n",
    "        \n",
    "        # Add the dataframe to our master list above\n",
    "        df_list.append(df)"
   ]
  },
  {
   "cell_type": "markdown",
   "metadata": {},
   "source": [
    "Now let's combine all of our dataframes from the list into one master dataframe. Pandas' concat tool is good at this."
   ]
  },
  {
   "cell_type": "code",
   "execution_count": 12,
   "metadata": {},
   "outputs": [],
   "source": [
    "master_df = pd.concat(df_list)"
   ]
  },
  {
   "cell_type": "markdown",
   "metadata": {},
   "source": [
    "### Finishing it off"
   ]
  },
  {
   "cell_type": "markdown",
   "metadata": {},
   "source": [
    "Kick the tires"
   ]
  },
  {
   "cell_type": "code",
   "execution_count": 13,
   "metadata": {},
   "outputs": [
    {
     "data": {
      "text/plain": [
       "10000"
      ]
     },
     "execution_count": 13,
     "metadata": {},
     "output_type": "execute_result"
    }
   ],
   "source": [
    "len(master_df)"
   ]
  },
  {
   "cell_type": "code",
   "execution_count": 14,
   "metadata": {},
   "outputs": [
    {
     "data": {
      "text/html": [
       "<div>\n",
       "<style scoped>\n",
       "    .dataframe tbody tr th:only-of-type {\n",
       "        vertical-align: middle;\n",
       "    }\n",
       "\n",
       "    .dataframe tbody tr th {\n",
       "        vertical-align: top;\n",
       "    }\n",
       "\n",
       "    .dataframe thead th {\n",
       "        text-align: right;\n",
       "    }\n",
       "</style>\n",
       "<table border=\"1\" class=\"dataframe\">\n",
       "  <thead>\n",
       "    <tr style=\"text-align: right;\">\n",
       "      <th></th>\n",
       "      <th>row1</th>\n",
       "      <th>row2</th>\n",
       "      <th>file_path</th>\n",
       "      <th>tab_name</th>\n",
       "    </tr>\n",
       "  </thead>\n",
       "  <tbody>\n",
       "    <tr>\n",
       "      <th>0</th>\n",
       "      <td>1</td>\n",
       "      <td>a</td>\n",
       "      <td>./input/2009.xlsx</td>\n",
       "      <td>Sheet1</td>\n",
       "    </tr>\n",
       "    <tr>\n",
       "      <th>1</th>\n",
       "      <td>2</td>\n",
       "      <td>b</td>\n",
       "      <td>./input/2009.xlsx</td>\n",
       "      <td>Sheet1</td>\n",
       "    </tr>\n",
       "    <tr>\n",
       "      <th>2</th>\n",
       "      <td>3</td>\n",
       "      <td>c</td>\n",
       "      <td>./input/2009.xlsx</td>\n",
       "      <td>Sheet1</td>\n",
       "    </tr>\n",
       "    <tr>\n",
       "      <th>3</th>\n",
       "      <td>4</td>\n",
       "      <td>d</td>\n",
       "      <td>./input/2009.xlsx</td>\n",
       "      <td>Sheet1</td>\n",
       "    </tr>\n",
       "    <tr>\n",
       "      <th>4</th>\n",
       "      <td>5</td>\n",
       "      <td>a</td>\n",
       "      <td>./input/2009.xlsx</td>\n",
       "      <td>Sheet1</td>\n",
       "    </tr>\n",
       "  </tbody>\n",
       "</table>\n",
       "</div>"
      ],
      "text/plain": [
       "   row1 row2          file_path tab_name\n",
       "0     1    a  ./input/2009.xlsx   Sheet1\n",
       "1     2    b  ./input/2009.xlsx   Sheet1\n",
       "2     3    c  ./input/2009.xlsx   Sheet1\n",
       "3     4    d  ./input/2009.xlsx   Sheet1\n",
       "4     5    a  ./input/2009.xlsx   Sheet1"
      ]
     },
     "execution_count": 14,
     "metadata": {},
     "output_type": "execute_result"
    }
   ],
   "source": [
    "master_df.head()"
   ]
  },
  {
   "cell_type": "markdown",
   "metadata": {},
   "source": [
    "Write out the combined file."
   ]
  },
  {
   "cell_type": "code",
   "execution_count": 15,
   "metadata": {},
   "outputs": [],
   "source": [
    "master_df.to_csv(\"./output/combined.csv\", index=False)"
   ]
  }
 ],
 "metadata": {
  "kernelspec": {
   "display_name": "Python 2",
   "language": "python",
   "name": "python2"
  },
  "language_info": {
   "codemirror_mode": {
    "name": "ipython",
    "version": 2
   },
   "file_extension": ".py",
   "mimetype": "text/x-python",
   "name": "python",
   "nbconvert_exporter": "python",
   "pygments_lexer": "ipython2",
   "version": "2.7.12"
  }
 },
 "nbformat": 4,
 "nbformat_minor": 2
}
